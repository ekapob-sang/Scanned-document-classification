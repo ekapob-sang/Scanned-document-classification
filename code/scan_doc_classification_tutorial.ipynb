{
  "nbformat": 4,
  "nbformat_minor": 0,
  "metadata": {
    "colab": {
      "name": "scan_doc_classification_tutorial.ipynb",
      "provenance": [],
      "collapsed_sections": []
    },
    "kernelspec": {
      "name": "python3",
      "display_name": "Python 3"
    },
    "language_info": {
      "name": "python"
    }
  },
  "cells": [
    {
      "cell_type": "markdown",
      "metadata": {
        "id": "Ymw5cZpYTDSx"
      },
      "source": [
        "# **1.Import library**"
      ]
    },
    {
      "cell_type": "code",
      "metadata": {
        "colab": {
          "base_uri": "https://localhost:8080/"
        },
        "id": "h5Hb4ZU2Z81y",
        "outputId": "a1450644-f031-4a38-ec99-f647db7a7087"
      },
      "source": [
        "import nltk\n",
        "import numpy as np\n",
        "import pandas as pd\n",
        "import spacy\n",
        "import os\n",
        "import random\n",
        "from nltk.stem.porter import *\n",
        "from nltk.tokenize import sent_tokenize, word_tokenize\n",
        "from collections import Counter\n",
        "from nltk.corpus import stopwords\n",
        "from tqdm import tqdm\n",
        "from sklearn.pipeline import Pipeline\n",
        "from sklearn.model_selection import train_test_split\n",
        "import seaborn as sns\n",
        "from time import perf_counter\n",
        "stemmer=PorterStemmer()\n",
        "nltk.download(\"punkt\")\n",
        "nltk.download(\"stopwords\")\n",
        "# Seed value\n",
        "# Apparently you may use different seed values at each stage\n",
        "seed_value= 123456\n",
        "# 1. Set `PYTHONHASHSEED` environment variable at a fixed value\n",
        "os.environ['PYTHONHASHSEED']=str(seed_value)\n",
        "# 2. Set `python` built-in pseudo-random generator at a fixed value\n",
        "random.seed(seed_value)\n",
        "# 3. Set `numpy` pseudo-random generator at a fixed value\n",
        "np.random.seed(seed_value)"
      ],
      "execution_count": null,
      "outputs": [
        {
          "output_type": "stream",
          "name": "stderr",
          "text": [
            "[nltk_data] Downloading package punkt to /root/nltk_data...\n",
            "[nltk_data]   Unzipping tokenizers/punkt.zip.\n",
            "[nltk_data] Downloading package stopwords to /root/nltk_data...\n",
            "[nltk_data]   Unzipping corpora/stopwords.zip.\n"
          ]
        },
        {
          "output_type": "execute_result",
          "data": {
            "text/plain": [
              "True"
            ]
          },
          "metadata": {},
          "execution_count": 1
        }
      ]
    },
    {
      "cell_type": "markdown",
      "source": [
        "mount with google colab"
      ],
      "metadata": {
        "id": "gmdT0XZ7C1vk"
      }
    },
    {
      "cell_type": "code",
      "metadata": {
        "colab": {
          "base_uri": "https://localhost:8080/"
        },
        "id": "wsR2dbU3dLvs",
        "outputId": "c2afad2f-16b9-431d-c001-3d98d2e8face"
      },
      "source": [
        "from google.colab import drive\n",
        "drive.mount('/content/drive')"
      ],
      "execution_count": null,
      "outputs": [
        {
          "output_type": "stream",
          "name": "stdout",
          "text": [
            "Mounted at /content/drive\n"
          ]
        }
      ]
    },
    {
      "cell_type": "markdown",
      "source": [
        "retrieve data source"
      ],
      "metadata": {
        "id": "pakxHN-SDpBw"
      }
    },
    {
      "cell_type": "code",
      "source": [
        "# load data"
      ],
      "metadata": {
        "id": "sOaVfjWlD3bH"
      },
      "execution_count": null,
      "outputs": []
    },
    {
      "cell_type": "markdown",
      "metadata": {
        "id": "8D0-8cJWTIsn"
      },
      "source": [
        "#**2. Preporocessing - tokenizer and make TFI-df**"
      ]
    },
    {
      "cell_type": "markdown",
      "source": [
        "- Tokenizer , stemmatization , remove stop words , lower case alphabet"
      ],
      "metadata": {
        "id": "sAYywEXkJytk"
      }
    },
    {
      "cell_type": "code",
      "metadata": {
        "id": "eUrRWIdOdcRU"
      },
      "source": [
        "spacy.prefer_gpu()\n",
        "nlp = spacy.load(\"en_core_web_sm\")\n",
        "stemmer=PorterStemmer()"
      ],
      "execution_count": null,
      "outputs": []
    },
    {
      "cell_type": "code",
      "metadata": {
        "id": "WOiIAigCU6u6"
      },
      "source": [
        " def preprocess_text(sentences) :   \n",
        "  \"\"\" input  \n",
        "        sentence : text\n",
        "        output : list of string from corpus ( bow)\n",
        "  \"\"\"     \n",
        "  words=[]  \n",
        "  bows = []     \n",
        "  phrase = sent_tokenize(sentences)\n",
        "  for sentence in phrase:\n",
        "              doc=nlp(sentence)\n",
        "              for token in doc:\n",
        "                 words.append(token.text)\n",
        "              words = [word for word in words if word not in stopwords.words(\"english\")]\n",
        "              words = [stemmer.stem(word) for word in words]\n",
        "              words = [word for word in words if word.isalpha()]\n",
        "              bows = bows + words\n",
        "  bows = [word.lower() for word in bows]\n",
        "  bows =set(bows)\n",
        "  bow = bows.intersection(set(list(nlp.vocab.strings)))\n",
        "  bow = sorted(list(bow))\n",
        "  return bow"
      ],
      "execution_count": null,
      "outputs": []
    },
    {
      "cell_type": "markdown",
      "source": [
        "import vectorizer library"
      ],
      "metadata": {
        "id": "tUIqCBS1ElCs"
      }
    },
    {
      "cell_type": "code",
      "metadata": {
        "id": "XkAxKlD7ZcwU"
      },
      "source": [
        "from sklearn.feature_extraction.text import TfidfTransformer\n",
        "from sklearn.feature_extraction.text import TfidfVectorizer\n",
        "from sklearn.model_selection import train_test_split"
      ],
      "execution_count": null,
      "outputs": []
    },
    {
      "cell_type": "markdown",
      "source": [
        "split data : train / test"
      ],
      "metadata": {
        "id": "K3w6_-lVD-VO"
      }
    },
    {
      "cell_type": "code",
      "metadata": {
        "id": "Nyug8iF6aPur"
      },
      "source": [
        "X=df[\"text\"]\n",
        "y=df[\"label\"]\n",
        "X_train, X_test, y_train, y_test = train_test_split(X, y, test_size=0.2, random_state=200,stratify=y)"
      ],
      "execution_count": null,
      "outputs": []
    },
    {
      "cell_type": "markdown",
      "source": [
        "transform train data to vector"
      ],
      "metadata": {
        "id": "XK54ZzLkFFB5"
      }
    },
    {
      "cell_type": "code",
      "metadata": {
        "id": "66-s5qT-QmDi"
      },
      "source": [
        "tfidf_vector = TfidfVectorizer(tokenizer = preprocess_text,min_df=20,max_df=0.8,max_features=300)"
      ],
      "execution_count": null,
      "outputs": []
    },
    {
      "cell_type": "code",
      "source": [
        " X_train_vector = tfidf_vector.fit_transform(X_train)"
      ],
      "metadata": {
        "id": "X1ohf1oSKVt_"
      },
      "execution_count": null,
      "outputs": []
    },
    {
      "cell_type": "markdown",
      "source": [
        "transform test data to vector"
      ],
      "metadata": {
        "id": "GTdG2yTWFWLH"
      }
    },
    {
      "cell_type": "code",
      "source": [
        "X_test_vector=  tfidf_vector.transform(X_test)"
      ],
      "metadata": {
        "id": "3tZvXwCT5qe0"
      },
      "execution_count": null,
      "outputs": []
    },
    {
      "cell_type": "markdown",
      "source": [
        "change categorical label to numeric label"
      ],
      "metadata": {
        "id": "vvHcnlpSFc6G"
      }
    },
    {
      "cell_type": "code",
      "source": [
        "from sklearn import preprocessing\n",
        "le = preprocessing.LabelEncoder()\n",
        "y_train_array=le.fit_transform(y_train)"
      ],
      "metadata": {
        "id": "m2WhwXIN2ujN"
      },
      "execution_count": null,
      "outputs": []
    },
    {
      "cell_type": "markdown",
      "metadata": {
        "id": "FRs6B0fvvOmY"
      },
      "source": [
        "#3. Train model with Logistic regression"
      ]
    },
    {
      "cell_type": "markdown",
      "metadata": {
        "id": "bO_TLgj5UESs"
      },
      "source": [
        "3.1 Random search "
      ]
    },
    {
      "cell_type": "code",
      "metadata": {
        "colab": {
          "base_uri": "https://localhost:8080/"
        },
        "id": "4zLrvv2a7OaI",
        "outputId": "40df1e1d-0e26-4eea-c409-62fa5ba89e6b"
      },
      "source": [
        "#FOR logistic + randomserach\n",
        "solvers = ['newton-cg', 'lbfgs']\n",
        "penalty = ['l2']\n",
        "c_values = [1000,100, 10, 1.0, 0.1, 0.01,0.001]\n",
        "rand = dict(classifier__solver=solvers,classifier__penalty=penalty,classifier__C=c_values)\n",
        "from sklearn.model_selection import GridSearchCV ,RandomizedSearchCV\n",
        "from sklearn.linear_model import LogisticRegression\n",
        "classifier = LogisticRegression(penalty='l2',class_weight='balanced',multi_class='multinomial')\n",
        "pipe = Pipeline([('classifier', classifier)],verbose=True)\n",
        "search = RandomizedSearchCV(pipe, param_distributions=rand, n_iter=200)\n",
        "search.fit(X_train_vector,y_train_array)\n",
        "print(\"Best parameter (CV score=%0.3f):\" % search.best_score_)\n",
        "print(search.best_params_)"
      ],
      "execution_count": null,
      "outputs": [
        {
          "output_type": "stream",
          "name": "stderr",
          "text": [
            "/usr/local/lib/python3.7/dist-packages/sklearn/model_selection/_search.py:296: UserWarning: The total space of parameters 14 is smaller than n_iter=200. Running 14 iterations. For exhaustive searches, use GridSearchCV.\n",
            "  UserWarning,\n"
          ]
        },
        {
          "output_type": "stream",
          "name": "stdout",
          "text": [
            "[Pipeline] ........ (step 1 of 1) Processing classifier, total=   0.2s\n",
            "[Pipeline] ........ (step 1 of 1) Processing classifier, total=   0.1s\n",
            "[Pipeline] ........ (step 1 of 1) Processing classifier, total=   0.2s\n",
            "[Pipeline] ........ (step 1 of 1) Processing classifier, total=   0.2s\n",
            "[Pipeline] ........ (step 1 of 1) Processing classifier, total=   0.2s\n",
            "[Pipeline] ........ (step 1 of 1) Processing classifier, total=   0.2s\n"
          ]
        },
        {
          "output_type": "stream",
          "name": "stderr",
          "text": [
            "/usr/local/lib/python3.7/dist-packages/sklearn/linear_model/_logistic.py:818: ConvergenceWarning: lbfgs failed to converge (status=1):\n",
            "STOP: TOTAL NO. of ITERATIONS REACHED LIMIT.\n",
            "\n",
            "Increase the number of iterations (max_iter) or scale the data as shown in:\n",
            "    https://scikit-learn.org/stable/modules/preprocessing.html\n",
            "Please also refer to the documentation for alternative solver options:\n",
            "    https://scikit-learn.org/stable/modules/linear_model.html#logistic-regression\n",
            "  extra_warning_msg=_LOGISTIC_SOLVER_CONVERGENCE_MSG,\n",
            "/usr/local/lib/python3.7/dist-packages/sklearn/linear_model/_logistic.py:818: ConvergenceWarning: lbfgs failed to converge (status=1):\n",
            "STOP: TOTAL NO. of ITERATIONS REACHED LIMIT.\n",
            "\n",
            "Increase the number of iterations (max_iter) or scale the data as shown in:\n",
            "    https://scikit-learn.org/stable/modules/preprocessing.html\n",
            "Please also refer to the documentation for alternative solver options:\n",
            "    https://scikit-learn.org/stable/modules/linear_model.html#logistic-regression\n",
            "  extra_warning_msg=_LOGISTIC_SOLVER_CONVERGENCE_MSG,\n"
          ]
        },
        {
          "output_type": "stream",
          "name": "stdout",
          "text": [
            "[Pipeline] ........ (step 1 of 1) Processing classifier, total=   0.2s\n",
            "[Pipeline] ........ (step 1 of 1) Processing classifier, total=   0.2s\n"
          ]
        },
        {
          "output_type": "stream",
          "name": "stderr",
          "text": [
            "/usr/local/lib/python3.7/dist-packages/sklearn/linear_model/_logistic.py:818: ConvergenceWarning: lbfgs failed to converge (status=1):\n",
            "STOP: TOTAL NO. of ITERATIONS REACHED LIMIT.\n",
            "\n",
            "Increase the number of iterations (max_iter) or scale the data as shown in:\n",
            "    https://scikit-learn.org/stable/modules/preprocessing.html\n",
            "Please also refer to the documentation for alternative solver options:\n",
            "    https://scikit-learn.org/stable/modules/linear_model.html#logistic-regression\n",
            "  extra_warning_msg=_LOGISTIC_SOLVER_CONVERGENCE_MSG,\n",
            "/usr/local/lib/python3.7/dist-packages/sklearn/linear_model/_logistic.py:818: ConvergenceWarning: lbfgs failed to converge (status=1):\n",
            "STOP: TOTAL NO. of ITERATIONS REACHED LIMIT.\n",
            "\n",
            "Increase the number of iterations (max_iter) or scale the data as shown in:\n",
            "    https://scikit-learn.org/stable/modules/preprocessing.html\n",
            "Please also refer to the documentation for alternative solver options:\n",
            "    https://scikit-learn.org/stable/modules/linear_model.html#logistic-regression\n",
            "  extra_warning_msg=_LOGISTIC_SOLVER_CONVERGENCE_MSG,\n"
          ]
        },
        {
          "output_type": "stream",
          "name": "stdout",
          "text": [
            "[Pipeline] ........ (step 1 of 1) Processing classifier, total=   0.2s\n",
            "[Pipeline] ........ (step 1 of 1) Processing classifier, total=   0.2s\n"
          ]
        },
        {
          "output_type": "stream",
          "name": "stderr",
          "text": [
            "/usr/local/lib/python3.7/dist-packages/sklearn/linear_model/_logistic.py:818: ConvergenceWarning: lbfgs failed to converge (status=1):\n",
            "STOP: TOTAL NO. of ITERATIONS REACHED LIMIT.\n",
            "\n",
            "Increase the number of iterations (max_iter) or scale the data as shown in:\n",
            "    https://scikit-learn.org/stable/modules/preprocessing.html\n",
            "Please also refer to the documentation for alternative solver options:\n",
            "    https://scikit-learn.org/stable/modules/linear_model.html#logistic-regression\n",
            "  extra_warning_msg=_LOGISTIC_SOLVER_CONVERGENCE_MSG,\n"
          ]
        },
        {
          "output_type": "stream",
          "name": "stdout",
          "text": [
            "[Pipeline] ........ (step 1 of 1) Processing classifier, total=   0.1s\n",
            "[Pipeline] ........ (step 1 of 1) Processing classifier, total=   0.1s\n",
            "[Pipeline] ........ (step 1 of 1) Processing classifier, total=   0.1s\n",
            "[Pipeline] ........ (step 1 of 1) Processing classifier, total=   0.1s\n",
            "[Pipeline] ........ (step 1 of 1) Processing classifier, total=   0.1s\n",
            "[Pipeline] ........ (step 1 of 1) Processing classifier, total=   0.2s\n"
          ]
        },
        {
          "output_type": "stream",
          "name": "stderr",
          "text": [
            "/usr/local/lib/python3.7/dist-packages/sklearn/linear_model/_logistic.py:818: ConvergenceWarning: lbfgs failed to converge (status=1):\n",
            "STOP: TOTAL NO. of ITERATIONS REACHED LIMIT.\n",
            "\n",
            "Increase the number of iterations (max_iter) or scale the data as shown in:\n",
            "    https://scikit-learn.org/stable/modules/preprocessing.html\n",
            "Please also refer to the documentation for alternative solver options:\n",
            "    https://scikit-learn.org/stable/modules/linear_model.html#logistic-regression\n",
            "  extra_warning_msg=_LOGISTIC_SOLVER_CONVERGENCE_MSG,\n",
            "/usr/local/lib/python3.7/dist-packages/sklearn/linear_model/_logistic.py:818: ConvergenceWarning: lbfgs failed to converge (status=1):\n",
            "STOP: TOTAL NO. of ITERATIONS REACHED LIMIT.\n",
            "\n",
            "Increase the number of iterations (max_iter) or scale the data as shown in:\n",
            "    https://scikit-learn.org/stable/modules/preprocessing.html\n",
            "Please also refer to the documentation for alternative solver options:\n",
            "    https://scikit-learn.org/stable/modules/linear_model.html#logistic-regression\n",
            "  extra_warning_msg=_LOGISTIC_SOLVER_CONVERGENCE_MSG,\n"
          ]
        },
        {
          "output_type": "stream",
          "name": "stdout",
          "text": [
            "[Pipeline] ........ (step 1 of 1) Processing classifier, total=   0.2s\n",
            "[Pipeline] ........ (step 1 of 1) Processing classifier, total=   0.2s\n"
          ]
        },
        {
          "output_type": "stream",
          "name": "stderr",
          "text": [
            "/usr/local/lib/python3.7/dist-packages/sklearn/linear_model/_logistic.py:818: ConvergenceWarning: lbfgs failed to converge (status=1):\n",
            "STOP: TOTAL NO. of ITERATIONS REACHED LIMIT.\n",
            "\n",
            "Increase the number of iterations (max_iter) or scale the data as shown in:\n",
            "    https://scikit-learn.org/stable/modules/preprocessing.html\n",
            "Please also refer to the documentation for alternative solver options:\n",
            "    https://scikit-learn.org/stable/modules/linear_model.html#logistic-regression\n",
            "  extra_warning_msg=_LOGISTIC_SOLVER_CONVERGENCE_MSG,\n",
            "/usr/local/lib/python3.7/dist-packages/sklearn/linear_model/_logistic.py:818: ConvergenceWarning: lbfgs failed to converge (status=1):\n",
            "STOP: TOTAL NO. of ITERATIONS REACHED LIMIT.\n",
            "\n",
            "Increase the number of iterations (max_iter) or scale the data as shown in:\n",
            "    https://scikit-learn.org/stable/modules/preprocessing.html\n",
            "Please also refer to the documentation for alternative solver options:\n",
            "    https://scikit-learn.org/stable/modules/linear_model.html#logistic-regression\n",
            "  extra_warning_msg=_LOGISTIC_SOLVER_CONVERGENCE_MSG,\n"
          ]
        },
        {
          "output_type": "stream",
          "name": "stdout",
          "text": [
            "[Pipeline] ........ (step 1 of 1) Processing classifier, total=   0.2s\n",
            "[Pipeline] ........ (step 1 of 1) Processing classifier, total=   0.2s\n"
          ]
        },
        {
          "output_type": "stream",
          "name": "stderr",
          "text": [
            "/usr/local/lib/python3.7/dist-packages/sklearn/linear_model/_logistic.py:818: ConvergenceWarning: lbfgs failed to converge (status=1):\n",
            "STOP: TOTAL NO. of ITERATIONS REACHED LIMIT.\n",
            "\n",
            "Increase the number of iterations (max_iter) or scale the data as shown in:\n",
            "    https://scikit-learn.org/stable/modules/preprocessing.html\n",
            "Please also refer to the documentation for alternative solver options:\n",
            "    https://scikit-learn.org/stable/modules/linear_model.html#logistic-regression\n",
            "  extra_warning_msg=_LOGISTIC_SOLVER_CONVERGENCE_MSG,\n"
          ]
        },
        {
          "output_type": "stream",
          "name": "stdout",
          "text": [
            "[Pipeline] ........ (step 1 of 1) Processing classifier, total=   0.1s\n",
            "[Pipeline] ........ (step 1 of 1) Processing classifier, total=   0.1s\n",
            "[Pipeline] ........ (step 1 of 1) Processing classifier, total=   0.1s\n",
            "[Pipeline] ........ (step 1 of 1) Processing classifier, total=   0.1s\n",
            "[Pipeline] ........ (step 1 of 1) Processing classifier, total=   0.1s\n",
            "[Pipeline] ........ (step 1 of 1) Processing classifier, total=   0.1s\n",
            "[Pipeline] ........ (step 1 of 1) Processing classifier, total=   0.1s\n",
            "[Pipeline] ........ (step 1 of 1) Processing classifier, total=   0.1s\n",
            "[Pipeline] ........ (step 1 of 1) Processing classifier, total=   0.1s\n",
            "[Pipeline] ........ (step 1 of 1) Processing classifier, total=   0.1s\n",
            "[Pipeline] ........ (step 1 of 1) Processing classifier, total=   0.1s\n",
            "[Pipeline] ........ (step 1 of 1) Processing classifier, total=   0.1s\n",
            "[Pipeline] ........ (step 1 of 1) Processing classifier, total=   0.1s\n",
            "[Pipeline] ........ (step 1 of 1) Processing classifier, total=   0.1s\n",
            "[Pipeline] ........ (step 1 of 1) Processing classifier, total=   0.1s\n",
            "[Pipeline] ........ (step 1 of 1) Processing classifier, total=   0.1s\n",
            "[Pipeline] ........ (step 1 of 1) Processing classifier, total=   0.1s\n",
            "[Pipeline] ........ (step 1 of 1) Processing classifier, total=   0.1s\n",
            "[Pipeline] ........ (step 1 of 1) Processing classifier, total=   0.1s\n",
            "[Pipeline] ........ (step 1 of 1) Processing classifier, total=   0.1s\n",
            "[Pipeline] ........ (step 1 of 1) Processing classifier, total=   0.1s\n",
            "[Pipeline] ........ (step 1 of 1) Processing classifier, total=   0.1s\n",
            "[Pipeline] ........ (step 1 of 1) Processing classifier, total=   0.1s\n",
            "[Pipeline] ........ (step 1 of 1) Processing classifier, total=   0.1s\n",
            "[Pipeline] ........ (step 1 of 1) Processing classifier, total=   0.1s\n",
            "[Pipeline] ........ (step 1 of 1) Processing classifier, total=   0.0s\n",
            "[Pipeline] ........ (step 1 of 1) Processing classifier, total=   0.0s\n",
            "[Pipeline] ........ (step 1 of 1) Processing classifier, total=   0.0s\n",
            "[Pipeline] ........ (step 1 of 1) Processing classifier, total=   0.0s\n",
            "[Pipeline] ........ (step 1 of 1) Processing classifier, total=   0.0s\n",
            "[Pipeline] ........ (step 1 of 1) Processing classifier, total=   0.0s\n",
            "[Pipeline] ........ (step 1 of 1) Processing classifier, total=   0.0s\n",
            "[Pipeline] ........ (step 1 of 1) Processing classifier, total=   0.0s\n",
            "[Pipeline] ........ (step 1 of 1) Processing classifier, total=   0.0s\n",
            "[Pipeline] ........ (step 1 of 1) Processing classifier, total=   0.0s\n",
            "[Pipeline] ........ (step 1 of 1) Processing classifier, total=   0.0s\n",
            "[Pipeline] ........ (step 1 of 1) Processing classifier, total=   0.0s\n",
            "[Pipeline] ........ (step 1 of 1) Processing classifier, total=   0.0s\n",
            "[Pipeline] ........ (step 1 of 1) Processing classifier, total=   0.0s\n",
            "[Pipeline] ........ (step 1 of 1) Processing classifier, total=   0.0s\n",
            "[Pipeline] ........ (step 1 of 1) Processing classifier, total=   0.0s\n",
            "[Pipeline] ........ (step 1 of 1) Processing classifier, total=   0.0s\n",
            "[Pipeline] ........ (step 1 of 1) Processing classifier, total=   0.0s\n",
            "[Pipeline] ........ (step 1 of 1) Processing classifier, total=   0.0s\n",
            "[Pipeline] ........ (step 1 of 1) Processing classifier, total=   0.0s\n",
            "[Pipeline] ........ (step 1 of 1) Processing classifier, total=   0.0s\n",
            "[Pipeline] ........ (step 1 of 1) Processing classifier, total=   0.0s\n",
            "[Pipeline] ........ (step 1 of 1) Processing classifier, total=   0.0s\n",
            "[Pipeline] ........ (step 1 of 1) Processing classifier, total=   0.0s\n",
            "[Pipeline] ........ (step 1 of 1) Processing classifier, total=   0.0s\n",
            "[Pipeline] ........ (step 1 of 1) Processing classifier, total=   0.1s\n",
            "Best parameter (CV score=0.955):\n",
            "{'classifier__solver': 'newton-cg', 'classifier__penalty': 'l2', 'classifier__C': 10}\n"
          ]
        }
      ]
    },
    {
      "cell_type": "markdown",
      "metadata": {
        "id": "ysiKrL2YUTjb"
      },
      "source": [
        "3.2 Gridsearch"
      ]
    },
    {
      "cell_type": "code",
      "metadata": {
        "colab": {
          "base_uri": "https://localhost:8080/"
        },
        "id": "y--FH1HR9RMN",
        "outputId": "0e962f70-cd55-4f95-de4c-c3218ba8666a"
      },
      "source": [
        "#FOR logistic + gridserach\n",
        "solvers = ['newton-cg']\n",
        "penalty = ['l2']\n",
        "c_values = [5,8,10,12,14]\n",
        "rand = dict(classifier__solver=solvers,classifier__penalty=penalty,classifier__C=c_values)\n",
        "from sklearn.model_selection import GridSearchCV \n",
        "classifier = LogisticRegression(class_weight='balanced',multi_class='multinomial')\n",
        "pipe = Pipeline([('classifier', classifier)],verbose=True)\n",
        "search = GridSearchCV(pipe, param_grid=rand, verbose=1)\n",
        "search.fit(X_train_vector,y_train_array)\n",
        "print(\"Best parameter (CV score=%0.3f):\" % search.best_score_)\n",
        "print(search.best_params_)"
      ],
      "execution_count": null,
      "outputs": [
        {
          "output_type": "stream",
          "name": "stdout",
          "text": [
            "Fitting 5 folds for each of 5 candidates, totalling 25 fits\n",
            "[Pipeline] ........ (step 1 of 1) Processing classifier, total=   0.1s\n",
            "[Pipeline] ........ (step 1 of 1) Processing classifier, total=   0.1s\n",
            "[Pipeline] ........ (step 1 of 1) Processing classifier, total=   0.1s\n",
            "[Pipeline] ........ (step 1 of 1) Processing classifier, total=   0.1s\n",
            "[Pipeline] ........ (step 1 of 1) Processing classifier, total=   0.1s\n",
            "[Pipeline] ........ (step 1 of 1) Processing classifier, total=   0.1s\n",
            "[Pipeline] ........ (step 1 of 1) Processing classifier, total=   0.1s\n",
            "[Pipeline] ........ (step 1 of 1) Processing classifier, total=   0.1s\n",
            "[Pipeline] ........ (step 1 of 1) Processing classifier, total=   0.1s\n",
            "[Pipeline] ........ (step 1 of 1) Processing classifier, total=   0.1s\n",
            "[Pipeline] ........ (step 1 of 1) Processing classifier, total=   0.1s\n",
            "[Pipeline] ........ (step 1 of 1) Processing classifier, total=   0.1s\n",
            "[Pipeline] ........ (step 1 of 1) Processing classifier, total=   0.1s\n",
            "[Pipeline] ........ (step 1 of 1) Processing classifier, total=   0.1s\n",
            "[Pipeline] ........ (step 1 of 1) Processing classifier, total=   0.1s\n",
            "[Pipeline] ........ (step 1 of 1) Processing classifier, total=   0.1s\n",
            "[Pipeline] ........ (step 1 of 1) Processing classifier, total=   0.1s\n",
            "[Pipeline] ........ (step 1 of 1) Processing classifier, total=   0.1s\n",
            "[Pipeline] ........ (step 1 of 1) Processing classifier, total=   0.1s\n",
            "[Pipeline] ........ (step 1 of 1) Processing classifier, total=   0.1s\n",
            "[Pipeline] ........ (step 1 of 1) Processing classifier, total=   0.1s\n",
            "[Pipeline] ........ (step 1 of 1) Processing classifier, total=   0.1s\n",
            "[Pipeline] ........ (step 1 of 1) Processing classifier, total=   0.1s\n",
            "[Pipeline] ........ (step 1 of 1) Processing classifier, total=   0.1s\n",
            "[Pipeline] ........ (step 1 of 1) Processing classifier, total=   0.1s\n",
            "[Pipeline] ........ (step 1 of 1) Processing classifier, total=   0.1s\n",
            "Best parameter (CV score=0.956):\n",
            "{'classifier__C': 8, 'classifier__penalty': 'l2', 'classifier__solver': 'newton-cg'}\n"
          ]
        }
      ]
    },
    {
      "cell_type": "markdown",
      "metadata": {
        "id": "ndHTgFrEUaNd"
      },
      "source": [
        "3.3 After finding optimal parameter, then train model with those parameters."
      ]
    },
    {
      "cell_type": "code",
      "metadata": {
        "id": "o9mNuZCNOnh9",
        "colab": {
          "base_uri": "https://localhost:8080/"
        },
        "outputId": "65b029ab-9703-42dc-9058-dc919e362383"
      },
      "source": [
        "#FOR logistic\n",
        "LR = LogisticRegression(penalty='l2',class_weight='balanced',solver='newton-cg',multi_class='multinomial',C=8)\n",
        "pipe = Pipeline([('classifier', LR)],verbose=True)\n",
        "pipe.fit(X_train_vector,y_train_array)"
      ],
      "execution_count": null,
      "outputs": [
        {
          "output_type": "stream",
          "name": "stdout",
          "text": [
            "[Pipeline] ........ (step 1 of 1) Processing classifier, total=   0.1s\n"
          ]
        },
        {
          "output_type": "execute_result",
          "data": {
            "text/plain": [
              "Pipeline(steps=[('classifier',\n",
              "                 LogisticRegression(C=8, class_weight='balanced',\n",
              "                                    multi_class='multinomial',\n",
              "                                    solver='newton-cg'))],\n",
              "         verbose=True)"
            ]
          },
          "metadata": {},
          "execution_count": 22
        }
      ]
    },
    {
      "cell_type": "markdown",
      "metadata": {
        "id": "9T18IfloUia2"
      },
      "source": [
        "3.4 Model evaluation"
      ]
    },
    {
      "cell_type": "code",
      "metadata": {
        "colab": {
          "base_uri": "https://localhost:8080/"
        },
        "id": "wwWEpcJ5zfgv",
        "outputId": "1f135d98-a47d-4e2b-c2e0-72d2d2c1a96c"
      },
      "source": [
        "from sklearn.metrics import accuracy_score, precision_score, recall_score,classification_report,f1_score\n",
        "from sklearn.metrics import roc_curve\n",
        "from sklearn.metrics import roc_auc_score\n",
        "y_test_array=le.transform(y_test)\n",
        "predicted = pipe.predict(X_test_vector)\n",
        "prob = pipe.predict_proba(X_test_vector)\n",
        "auc = roc_auc_score(y_test_array,prob, average='weighted', multi_class='ovr')\n",
        "print(\"Overall Accuracy:\",accuracy_score(y_test_array, predicted))\n",
        "print(\"Overall Precision(weight):\",precision_score(y_test_array, predicted, average='weighted'))\n",
        "print(\"Overall F1-score(weight):\",f1_score(y_test_array, predicted, average='weighted'))\n",
        "print(\"Overall Recall(weight):\",recall_score(y_test_array, predicted, average='weighted'))\n",
        "print('Average AUC:', auc)\n",
        "y = le.inverse_transform(y_test_array)\n",
        "y_predicted = le.inverse_transform(predicted)\n",
        "print(classification_report(y, y_predicted))"
      ],
      "execution_count": null,
      "outputs": [
        {
          "output_type": "stream",
          "name": "stdout",
          "text": [
            "Elapsed time during the whole program in seconds: 104.96436756000003\n",
            "Elapsed time per sample in seconds: 0.2691394040000001\n",
            "Overall Accuracy: 0.9666666666666667\n",
            "Overall Precision(weight): 0.9671365156582546\n",
            "Overall F1-score(weight): 0.9666496113897618\n",
            "Overall Recall(weight): 0.9666666666666667\n",
            "Average AUC: 0.9967445128722004\n",
            "              precision    recall  f1-score   support\n",
            "\n",
            "         LAB       0.97      0.94      0.96        71\n",
            "         OTH       0.95      0.98      0.97       174\n",
            "       PATHO       0.99      0.97      0.98        76\n",
            "       RADIO       0.98      0.94      0.96        69\n",
            "\n",
            "    accuracy                           0.97       390\n",
            "   macro avg       0.97      0.96      0.97       390\n",
            "weighted avg       0.97      0.97      0.97       390\n",
            "\n"
          ]
        }
      ]
    },
    {
      "cell_type": "markdown",
      "source": [
        "confusion matrix"
      ],
      "metadata": {
        "id": "LnwwYKarHkKd"
      }
    },
    {
      "cell_type": "code",
      "source": [
        "import seaborn as sns\n",
        "import matplotlib.pyplot as plt\n",
        "from sklearn.metrics import confusion_matrix\n",
        "cf_matrix=confusion_matrix(y_test_array, predicted)\n",
        "# Build graph\n",
        "ax = sns.heatmap(cf_matrix, annot=True, cmap='Blues',fmt='g')\n",
        "ax.set_title('Seaborn Confusion Matrix with labels\\n\\n');\n",
        "ax.set_xlabel('\\nPredicted document type')\n",
        "ax.set_ylabel('Actual Document type ');\n",
        "\n",
        "## Ticket labels - List must be in alphabetical order\n",
        "ax.xaxis.set_ticklabels(['LAB','OTH', 'PATHO','RADIO'])\n",
        "ax.yaxis.set_ticklabels(['LAB','OTH', 'PATHO','RADIO'])\n",
        "\n",
        "## Display the visualization of the Confusion Matrix.\n",
        "plt.show()"
      ],
      "metadata": {
        "colab": {
          "base_uri": "https://localhost:8080/",
          "height": 337
        },
        "outputId": "81fae254-2d29-496d-e0f8-8a4a6fdbfa34",
        "id": "oUaxpzPxlbaJ"
      },
      "execution_count": null,
      "outputs": [
        {
          "output_type": "display_data",
          "data": {
            "text/plain": [
              "<Figure size 432x288 with 2 Axes>"
            ],
            "image/png": "[encoded data removed]"
          },
          "metadata": {
            "needs_background": "light"
          }
        }
      ]
    }
  ]
}